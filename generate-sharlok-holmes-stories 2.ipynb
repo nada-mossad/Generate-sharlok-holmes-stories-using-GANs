{
 "cells": [
  {
   "cell_type": "code",
   "execution_count": 1,
   "id": "7f7d0b6e",
   "metadata": {
    "execution": {
     "iopub.execute_input": "2025-05-27T14:43:54.947402Z",
     "iopub.status.busy": "2025-05-27T14:43:54.947100Z",
     "iopub.status.idle": "2025-05-27T14:44:01.292553Z",
     "shell.execute_reply": "2025-05-27T14:44:01.291508Z"
    },
    "papermill": {
     "duration": 6.352731,
     "end_time": "2025-05-27T14:44:01.294895",
     "exception": false,
     "start_time": "2025-05-27T14:43:54.942164",
     "status": "completed"
    },
    "tags": []
   },
   "outputs": [],
   "source": [
    "import os\n",
    "import pandas as pd\n",
    "import numpy as np\n",
    "import torch\n",
    "import torch.nn as nn\n",
    "import torch.optim as optim\n",
    "from torch.utils.data import DataLoader, Dataset\n",
    "from sklearn.preprocessing import OneHotEncoder"
   ]
  },
  {
   "cell_type": "code",
   "execution_count": 2,
   "id": "ceeff945",
   "metadata": {
    "execution": {
     "iopub.execute_input": "2025-05-27T14:44:01.303610Z",
     "iopub.status.busy": "2025-05-27T14:44:01.302743Z",
     "iopub.status.idle": "2025-05-27T14:44:01.306955Z",
     "shell.execute_reply": "2025-05-27T14:44:01.306235Z"
    },
    "papermill": {
     "duration": 0.010008,
     "end_time": "2025-05-27T14:44:01.308664",
     "exception": false,
     "start_time": "2025-05-27T14:44:01.298656",
     "status": "completed"
    },
    "tags": []
   },
   "outputs": [],
   "source": [
    "import warnings\n",
    "warnings.filterwarnings(\"ignore\")"
   ]
  },
  {
   "cell_type": "code",
   "execution_count": 3,
   "id": "78c93921",
   "metadata": {
    "execution": {
     "iopub.execute_input": "2025-05-27T14:44:01.316598Z",
     "iopub.status.busy": "2025-05-27T14:44:01.316018Z",
     "iopub.status.idle": "2025-05-27T14:44:01.411191Z",
     "shell.execute_reply": "2025-05-27T14:44:01.410431Z"
    },
    "papermill": {
     "duration": 0.101248,
     "end_time": "2025-05-27T14:44:01.413206",
     "exception": false,
     "start_time": "2025-05-27T14:44:01.311958",
     "status": "completed"
    },
    "tags": []
   },
   "outputs": [],
   "source": [
    "torch.manual_seed(42)\n",
    "device = torch.device('cuda' if torch.cuda.is_available() else 'cpu')"
   ]
  },
  {
   "cell_type": "code",
   "execution_count": 4,
   "id": "d6b60974",
   "metadata": {
    "execution": {
     "iopub.execute_input": "2025-05-27T14:44:01.420927Z",
     "iopub.status.busy": "2025-05-27T14:44:01.420401Z",
     "iopub.status.idle": "2025-05-27T14:44:01.424972Z",
     "shell.execute_reply": "2025-05-27T14:44:01.424272Z"
    },
    "papermill": {
     "duration": 0.010083,
     "end_time": "2025-05-27T14:44:01.426631",
     "exception": false,
     "start_time": "2025-05-27T14:44:01.416548",
     "status": "completed"
    },
    "tags": []
   },
   "outputs": [],
   "source": [
    "def load_txt_data(folder_path):\n",
    "    texts = []\n",
    "    for filename in os.listdir(folder_path):\n",
    "        if filename.endswith('.txt'):\n",
    "            with open(os.path.join(folder_path, filename), 'r', encoding='utf-8') as file:\n",
    "                texts.append(file.read())\n",
    "    return texts"
   ]
  },
  {
   "cell_type": "code",
   "execution_count": 5,
   "id": "e17cf3e0",
   "metadata": {
    "execution": {
     "iopub.execute_input": "2025-05-27T14:44:01.435095Z",
     "iopub.status.busy": "2025-05-27T14:44:01.434569Z",
     "iopub.status.idle": "2025-05-27T14:44:01.438343Z",
     "shell.execute_reply": "2025-05-27T14:44:01.437508Z"
    },
    "papermill": {
     "duration": 0.009156,
     "end_time": "2025-05-27T14:44:01.439932",
     "exception": false,
     "start_time": "2025-05-27T14:44:01.430776",
     "status": "completed"
    },
    "tags": []
   },
   "outputs": [],
   "source": [
    "def load_csv_data(csv_file_path):\n",
    "    df = pd.read_csv(csv_file_path) \n",
    "    return df['content'].tolist()"
   ]
  },
  {
   "cell_type": "code",
   "execution_count": 6,
   "id": "4bd5ca75",
   "metadata": {
    "execution": {
     "iopub.execute_input": "2025-05-27T14:44:01.447660Z",
     "iopub.status.busy": "2025-05-27T14:44:01.447202Z",
     "iopub.status.idle": "2025-05-27T14:44:01.451892Z",
     "shell.execute_reply": "2025-05-27T14:44:01.451219Z"
    },
    "papermill": {
     "duration": 0.010183,
     "end_time": "2025-05-27T14:44:01.453476",
     "exception": false,
     "start_time": "2025-05-27T14:44:01.443293",
     "status": "completed"
    },
    "tags": []
   },
   "outputs": [],
   "source": [
    "class TextDataset(Dataset):\n",
    "    def __init__(self, texts):\n",
    "        self.texts = texts\n",
    "        self.encoder = OneHotEncoder(sparse=False)\n",
    "        self.encoded_texts = self.encoder.fit_transform(np.array(texts).reshape(-1, 1))\n",
    "\n",
    "    def __len__(self):\n",
    "        return len(self.texts)\n",
    "\n",
    "    def __getitem__(self, idx):\n",
    "        return torch.tensor(self.encoded_texts[idx], dtype=torch.float32)"
   ]
  },
  {
   "cell_type": "code",
   "execution_count": 7,
   "id": "933c7b4d",
   "metadata": {
    "execution": {
     "iopub.execute_input": "2025-05-27T14:44:01.461034Z",
     "iopub.status.busy": "2025-05-27T14:44:01.460526Z",
     "iopub.status.idle": "2025-05-27T14:44:02.269573Z",
     "shell.execute_reply": "2025-05-27T14:44:02.268860Z"
    },
    "papermill": {
     "duration": 0.814856,
     "end_time": "2025-05-27T14:44:02.271585",
     "exception": false,
     "start_time": "2025-05-27T14:44:01.456729",
     "status": "completed"
    },
    "tags": []
   },
   "outputs": [],
   "source": [
    "folder_path = '/kaggle/input/sherlock-holmes-collection/collection of sherlock holmes/sherlock' \n",
    "txt_stories = load_txt_data(folder_path)\n",
    "\n",
    "csv_file_path = '/kaggle/input/sherlock-holmes-collection/collection of sherlock holmes/holmes.csv'   \n",
    "csv_stories = load_csv_data(csv_file_path)"
   ]
  },
  {
   "cell_type": "code",
   "execution_count": 8,
   "id": "e55382ff",
   "metadata": {
    "execution": {
     "iopub.execute_input": "2025-05-27T14:44:02.279652Z",
     "iopub.status.busy": "2025-05-27T14:44:02.279126Z",
     "iopub.status.idle": "2025-05-27T14:44:02.282784Z",
     "shell.execute_reply": "2025-05-27T14:44:02.282021Z"
    },
    "papermill": {
     "duration": 0.009317,
     "end_time": "2025-05-27T14:44:02.284468",
     "exception": false,
     "start_time": "2025-05-27T14:44:02.275151",
     "status": "completed"
    },
    "tags": []
   },
   "outputs": [],
   "source": [
    "all_stories = txt_stories + csv_stories"
   ]
  },
  {
   "cell_type": "code",
   "execution_count": 9,
   "id": "5260e12b",
   "metadata": {
    "execution": {
     "iopub.execute_input": "2025-05-27T14:44:02.292497Z",
     "iopub.status.busy": "2025-05-27T14:44:02.291932Z",
     "iopub.status.idle": "2025-05-27T14:44:16.023917Z",
     "shell.execute_reply": "2025-05-27T14:44:16.022983Z"
    },
    "papermill": {
     "duration": 13.73813,
     "end_time": "2025-05-27T14:44:16.026045",
     "exception": false,
     "start_time": "2025-05-27T14:44:02.287915",
     "status": "completed"
    },
    "tags": []
   },
   "outputs": [],
   "source": [
    "dataset = TextDataset(all_stories)\n",
    "dataloader = DataLoader(dataset, batch_size=2, shuffle=True)"
   ]
  },
  {
   "cell_type": "code",
   "execution_count": 10,
   "id": "c14bc028",
   "metadata": {
    "execution": {
     "iopub.execute_input": "2025-05-27T14:44:16.034277Z",
     "iopub.status.busy": "2025-05-27T14:44:16.033705Z",
     "iopub.status.idle": "2025-05-27T14:44:16.038744Z",
     "shell.execute_reply": "2025-05-27T14:44:16.037875Z"
    },
    "papermill": {
     "duration": 0.010836,
     "end_time": "2025-05-27T14:44:16.040439",
     "exception": false,
     "start_time": "2025-05-27T14:44:16.029603",
     "status": "completed"
    },
    "tags": []
   },
   "outputs": [],
   "source": [
    "class Generator(nn.Module):\n",
    "    def __init__(self, input_dim, output_dim):\n",
    "        super(Generator, self).__init__()\n",
    "        self.fc = nn.Sequential(\n",
    "            nn.Linear(input_dim, 256),\n",
    "            nn.LeakyReLU(0.2),\n",
    "            nn.Linear(256, output_dim),\n",
    "            nn.Tanh()\n",
    "        )\n",
    "\n",
    "    def forward(self, x): \n",
    "        return self.fc(x)"
   ]
  },
  {
   "cell_type": "code",
   "execution_count": 11,
   "id": "465ebe18",
   "metadata": {
    "execution": {
     "iopub.execute_input": "2025-05-27T14:44:16.048059Z",
     "iopub.status.busy": "2025-05-27T14:44:16.047532Z",
     "iopub.status.idle": "2025-05-27T14:44:16.052325Z",
     "shell.execute_reply": "2025-05-27T14:44:16.051457Z"
    },
    "papermill": {
     "duration": 0.010371,
     "end_time": "2025-05-27T14:44:16.054024",
     "exception": false,
     "start_time": "2025-05-27T14:44:16.043653",
     "status": "completed"
    },
    "tags": []
   },
   "outputs": [],
   "source": [
    "class Discriminator(nn.Module):\n",
    "    def __init__(self, input_dim):\n",
    "        super(Discriminator, self).__init__()\n",
    "        self.fc = nn.Sequential(\n",
    "            nn.Linear(input_dim, 256),\n",
    "            nn.LeakyReLU(0.2),\n",
    "            nn.Dropout(0.3),\n",
    "            nn.Linear(256, 1)  \n",
    "        )\n",
    "\n",
    "    def forward(self, x): \n",
    "        return self.fc(x)"
   ]
  },
  {
   "cell_type": "code",
   "execution_count": 12,
   "id": "6c1d8b09",
   "metadata": {
    "execution": {
     "iopub.execute_input": "2025-05-27T14:44:16.061226Z",
     "iopub.status.busy": "2025-05-27T14:44:16.060899Z",
     "iopub.status.idle": "2025-05-27T14:44:16.064489Z",
     "shell.execute_reply": "2025-05-27T14:44:16.063740Z"
    },
    "papermill": {
     "duration": 0.008957,
     "end_time": "2025-05-27T14:44:16.066149",
     "exception": false,
     "start_time": "2025-05-27T14:44:16.057192",
     "status": "completed"
    },
    "tags": []
   },
   "outputs": [],
   "source": [
    "criterion = nn.BCEWithLogitsLoss()"
   ]
  },
  {
   "cell_type": "code",
   "execution_count": 13,
   "id": "42218bae",
   "metadata": {
    "execution": {
     "iopub.execute_input": "2025-05-27T14:44:16.073383Z",
     "iopub.status.busy": "2025-05-27T14:44:16.073116Z",
     "iopub.status.idle": "2025-05-27T14:44:16.108974Z",
     "shell.execute_reply": "2025-05-27T14:44:16.108386Z"
    },
    "papermill": {
     "duration": 0.041301,
     "end_time": "2025-05-27T14:44:16.110632",
     "exception": false,
     "start_time": "2025-05-27T14:44:16.069331",
     "status": "completed"
    },
    "tags": []
   },
   "outputs": [],
   "source": [
    "input_dim = 10\n",
    "output_dim = len(dataset[0])"
   ]
  },
  {
   "cell_type": "code",
   "execution_count": 14,
   "id": "26ca863c",
   "metadata": {
    "execution": {
     "iopub.execute_input": "2025-05-27T14:44:16.117583Z",
     "iopub.status.busy": "2025-05-27T14:44:16.117330Z",
     "iopub.status.idle": "2025-05-27T14:44:16.336707Z",
     "shell.execute_reply": "2025-05-27T14:44:16.335623Z"
    },
    "papermill": {
     "duration": 0.225292,
     "end_time": "2025-05-27T14:44:16.338952",
     "exception": false,
     "start_time": "2025-05-27T14:44:16.113660",
     "status": "completed"
    },
    "tags": []
   },
   "outputs": [],
   "source": [
    "generator = Generator(input_dim, output_dim).to(device)\n",
    "discriminator = Discriminator(output_dim).to(device)"
   ]
  },
  {
   "cell_type": "code",
   "execution_count": 15,
   "id": "efe53fb1",
   "metadata": {
    "execution": {
     "iopub.execute_input": "2025-05-27T14:44:16.346730Z",
     "iopub.status.busy": "2025-05-27T14:44:16.346431Z",
     "iopub.status.idle": "2025-05-27T14:44:17.839663Z",
     "shell.execute_reply": "2025-05-27T14:44:17.838976Z"
    },
    "papermill": {
     "duration": 1.499275,
     "end_time": "2025-05-27T14:44:17.841744",
     "exception": false,
     "start_time": "2025-05-27T14:44:16.342469",
     "status": "completed"
    },
    "tags": []
   },
   "outputs": [],
   "source": [
    "optimizer_g = optim.Adam(generator.parameters(), lr=0.0002)\n",
    "optimizer_d = optim.Adam(discriminator.parameters(), lr=0.0002) "
   ]
  },
  {
   "cell_type": "code",
   "execution_count": 16,
   "id": "240119b0",
   "metadata": {
    "execution": {
     "iopub.execute_input": "2025-05-27T14:44:17.849652Z",
     "iopub.status.busy": "2025-05-27T14:44:17.849256Z",
     "iopub.status.idle": "2025-05-27T14:44:17.853106Z",
     "shell.execute_reply": "2025-05-27T14:44:17.852254Z"
    },
    "papermill": {
     "duration": 0.009605,
     "end_time": "2025-05-27T14:44:17.854786",
     "exception": false,
     "start_time": "2025-05-27T14:44:17.845181",
     "status": "completed"
    },
    "tags": []
   },
   "outputs": [],
   "source": [
    "num_epochs = 5000"
   ]
  },
  {
   "cell_type": "code",
   "execution_count": 17,
   "id": "97a1b9c1",
   "metadata": {
    "execution": {
     "iopub.execute_input": "2025-05-27T14:44:17.861970Z",
     "iopub.status.busy": "2025-05-27T14:44:17.861705Z",
     "iopub.status.idle": "2025-05-27T15:03:55.872447Z",
     "shell.execute_reply": "2025-05-27T15:03:55.871697Z"
    },
    "papermill": {
     "duration": 1178.016579,
     "end_time": "2025-05-27T15:03:55.874491",
     "exception": false,
     "start_time": "2025-05-27T14:44:17.857912",
     "status": "completed"
    },
    "tags": []
   },
   "outputs": [
    {
     "name": "stdout",
     "output_type": "stream",
     "text": [
      "Epoch [0/5000], Loss D: 1.3667, Loss G: 0.7412\n",
      "Epoch [100/5000], Loss D: 1.3865, Loss G: 0.7726\n",
      "Epoch [200/5000], Loss D: 1.3497, Loss G: 0.7604\n",
      "Epoch [300/5000], Loss D: 1.2655, Loss G: 0.8206\n",
      "Epoch [400/5000], Loss D: 1.0815, Loss G: 0.9601\n",
      "Epoch [500/5000], Loss D: 0.9068, Loss G: 1.2248\n",
      "Epoch [600/5000], Loss D: 0.7803, Loss G: 1.4657\n",
      "Epoch [700/5000], Loss D: 0.4472, Loss G: 1.9692\n",
      "Epoch [800/5000], Loss D: 0.4562, Loss G: 1.8092\n",
      "Epoch [900/5000], Loss D: 0.4309, Loss G: 3.0152\n",
      "Epoch [1000/5000], Loss D: 0.4465, Loss G: 2.3650\n",
      "Epoch [1100/5000], Loss D: 0.4319, Loss G: 2.5423\n",
      "Epoch [1200/5000], Loss D: 0.4179, Loss G: 3.3025\n",
      "Epoch [1300/5000], Loss D: 0.5177, Loss G: 2.8169\n",
      "Epoch [1400/5000], Loss D: 0.3747, Loss G: 3.1298\n",
      "Epoch [1500/5000], Loss D: 0.4305, Loss G: 2.9701\n",
      "Epoch [1600/5000], Loss D: 0.6292, Loss G: 2.5682\n",
      "Epoch [1700/5000], Loss D: 0.4754, Loss G: 2.5351\n",
      "Epoch [1800/5000], Loss D: 0.4218, Loss G: 2.6680\n",
      "Epoch [1900/5000], Loss D: 0.4189, Loss G: 3.0865\n",
      "Epoch [2000/5000], Loss D: 0.5539, Loss G: 3.1390\n",
      "Epoch [2100/5000], Loss D: 0.3938, Loss G: 2.4913\n",
      "Epoch [2200/5000], Loss D: 0.4466, Loss G: 2.5583\n",
      "Epoch [2300/5000], Loss D: 0.3944, Loss G: 3.1620\n",
      "Epoch [2400/5000], Loss D: 0.4290, Loss G: 3.3279\n",
      "Epoch [2500/5000], Loss D: 0.3712, Loss G: 3.0139\n",
      "Epoch [2600/5000], Loss D: 0.4496, Loss G: 2.9255\n",
      "Epoch [2700/5000], Loss D: 0.3880, Loss G: 3.1389\n",
      "Epoch [2800/5000], Loss D: 0.4030, Loss G: 3.1116\n",
      "Epoch [2900/5000], Loss D: 0.5837, Loss G: 3.2678\n",
      "Epoch [3000/5000], Loss D: 0.3753, Loss G: 3.2345\n",
      "Epoch [3100/5000], Loss D: 0.6030, Loss G: 2.6600\n",
      "Epoch [3200/5000], Loss D: 0.4302, Loss G: 3.9359\n",
      "Epoch [3300/5000], Loss D: 0.4125, Loss G: 3.0487\n",
      "Epoch [3400/5000], Loss D: 0.3964, Loss G: 3.2852\n",
      "Epoch [3500/5000], Loss D: 0.4281, Loss G: 1.9807\n",
      "Epoch [3600/5000], Loss D: 0.4315, Loss G: 2.6576\n",
      "Epoch [3700/5000], Loss D: 0.3832, Loss G: 3.4459\n",
      "Epoch [3800/5000], Loss D: 0.4439, Loss G: 3.0118\n",
      "Epoch [3900/5000], Loss D: 0.3889, Loss G: 3.0677\n",
      "Epoch [4000/5000], Loss D: 0.3912, Loss G: 3.0255\n",
      "Epoch [4100/5000], Loss D: 0.3745, Loss G: 3.6626\n",
      "Epoch [4200/5000], Loss D: 0.4259, Loss G: 3.4561\n",
      "Epoch [4300/5000], Loss D: 0.5136, Loss G: 3.5781\n",
      "Epoch [4400/5000], Loss D: 0.3774, Loss G: 3.5747\n",
      "Epoch [4500/5000], Loss D: 0.4568, Loss G: 2.7596\n",
      "Epoch [4600/5000], Loss D: 0.3808, Loss G: 2.9134\n",
      "Epoch [4700/5000], Loss D: 0.3882, Loss G: 3.2556\n",
      "Epoch [4800/5000], Loss D: 0.3607, Loss G: 3.4801\n",
      "Epoch [4900/5000], Loss D: 0.3739, Loss G: 2.9500\n"
     ]
    }
   ],
   "source": [
    "for epoch in range(num_epochs):\n",
    "    for real_data in dataloader:\n",
    "        real_data = real_data.to(device)\n",
    "        batch_size = real_data.size(0)\n",
    "\n",
    "        optimizer_d.zero_grad()\n",
    "        noise = torch.randn(batch_size, input_dim, device=device)\n",
    "        fake_data = generator(noise)\n",
    "\n",
    "        label_real = torch.full((batch_size, 1), 0.9, device=device) \n",
    "        label_fake = torch.zeros(batch_size, 1, device=device)\n",
    "\n",
    "        output_real = discriminator(real_data)\n",
    "        loss_real = criterion(output_real, label_real)\n",
    "        \n",
    "        output_fake = discriminator(fake_data.detach())\n",
    "        loss_fake = criterion(output_fake, label_fake)\n",
    "\n",
    "        loss_d = loss_real + loss_fake\n",
    "        loss_d.backward()\n",
    "        optimizer_d.step()\n",
    "\n",
    "        optimizer_g.zero_grad()\n",
    "        output = discriminator(fake_data)\n",
    "        loss_g = criterion(output, label_real) \n",
    "        loss_g.backward()\n",
    "        optimizer_g.step()\n",
    "\n",
    "    if epoch % 100 == 0:\n",
    "        print(f'Epoch [{epoch}/{num_epochs}], Loss D: {loss_d.item():.4f}, Loss G: {loss_g.item():.4f}')\n"
   ]
  }
 ],
 "metadata": {
  "kaggle": {
   "accelerator": "nvidiaTeslaT4",
   "dataSources": [
    {
     "datasetId": 5644540,
     "sourceId": 9318678,
     "sourceType": "datasetVersion"
    }
   ],
   "dockerImageVersionId": 30787,
   "isGpuEnabled": true,
   "isInternetEnabled": true,
   "language": "python",
   "sourceType": "notebook"
  },
  "kernelspec": {
   "display_name": "Python 3",
   "language": "python",
   "name": "python3"
  },
  "language_info": {
   "codemirror_mode": {
    "name": "ipython",
    "version": 3
   },
   "file_extension": ".py",
   "mimetype": "text/x-python",
   "name": "python",
   "nbconvert_exporter": "python",
   "pygments_lexer": "ipython3",
   "version": "3.10.14"
  },
  "papermill": {
   "default_parameters": {},
   "duration": 1206.28521,
   "end_time": "2025-05-27T15:03:58.287510",
   "environment_variables": {},
   "exception": null,
   "input_path": "__notebook__.ipynb",
   "output_path": "__notebook__.ipynb",
   "parameters": {},
   "start_time": "2025-05-27T14:43:52.002300",
   "version": "2.6.0"
  }
 },
 "nbformat": 4,
 "nbformat_minor": 5
}
